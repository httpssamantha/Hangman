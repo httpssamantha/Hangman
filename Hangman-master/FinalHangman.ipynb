{
 "cells": [
  {
   "cell_type": "markdown",
   "metadata": {},
   "source": [
    "# Hangman notes\n",
    "Your hangman homework has a number of different ways it can be completed. If you are having trouble completing it, you can use this notebook to guide you to a solution.\n",
    "\n",
    "## Describe the Algorithm\n",
    "Usually when we start writing a program we decide how we want the program to work. This is called the algorithm underlying the program.\n",
    "\n",
    "For hangman it might be something like this.\n",
    "\n",
    "1. Ask if they want to play a game, if not then return\n",
    "2. Generate a random word (w)\n",
    "   Also initialize the counter variable which keeps track of their remaining guesses\n",
    "   and initialize a variable to keep track of the letters they've guessed already.\n",
    "3. Ask the user for a letter and add it to the list of guessed letters\n",
    "4. If the letter has already been guessed or is not in the word, add one to the counter\n",
    "   and print a message saying they didn't guess a new letter\n",
    "5. Otherwise, congratulate them and print the letters in the word, but only showing the\n",
    "   letters they have guessed.\n",
    "6. If they have guessed all the letters or they have used up all of their guesses end the game\n",
    "7. Otherwise continue the game\n",
    "\n",
    "# Pseudocode\n",
    "The next step is to write the code as a combination of Python and English where the Python\n",
    "captures the \"top-level\" parts of the algorithm.\n",
    "\n",
    "Making this more Python-like we can rewrite it as:\n",
    "```python\n",
    "def play_hangman():\n",
    "    want_to_play = True\n",
    "\n",
    "\n",
    "    while (want_to_play):\n",
    "        guessed_letters = []\n",
    "        guesses_left = 6\n",
    "        word = \"generate a random word\"\n",
    "        letter = \"ask the user for a letter\"\n",
    "        done = False\n",
    "        while not done:\n",
    "            if letter in guessed_letters:\n",
    "                \"subtract one from guesses_left\"\n",
    "                \"and tell them they already guessed that letter\"\n",
    "            elif letter not in word:\n",
    "                \"add letter to guessed letters\"\n",
    "                \"tell user the letter is not in the word\"\n",
    "                \"subtract one from the guesses_left\"\n",
    "            else:\n",
    "                \"add letter to guessed letters\"\n",
    "                \"tell user the letter is in the word\"\n",
    "            if \"all the letters in the word have been guessed\":\n",
    "                \"set done to be true and tell the user they won!\"\n",
    "            elif \"the number of guesses left is zero\":\n",
    "                \"set done to be true and tell the user they lost!\"\n",
    "            else:\n",
    "                \"print the word with a dash for each letter not in guessed_letters\"\n",
    "                letter = \"ask the user for another letter\"\n",
    "        want_to_play = \"ask the user if they want to play another game...\"\n",
    "    \n",
    "```   \n",
    "Some of the pseudo code can be converted directly into python code\n",
    "Other pseudo code should be turned into functions, e.g.\n"
   ]
  },
  {
   "cell_type": "markdown",
   "metadata": {},
   "source": [
    "## Testing\n",
    "Try to trace this program to see if the logic is correct\n",
    "Play a few games and see if we have forgotten anything..."
   ]
  },
  {
   "cell_type": "markdown",
   "metadata": {},
   "source": [
    "## Topdown development\n",
    "Now that we have a highlevel view of the program and have tested it, lets start writing the lowerlevel code.\n",
    "\n",
    "\"generate a random word\" could be a function call \n",
    "```python\n",
    "  word = generate_random_word()\n",
    "```\n",
    "and then you'll need to define the generate_random_word function. The easiest approach is to\n",
    "import the random module and use the random.choice(list) function which returns a random element\n",
    "from the list. Write the code for the generate_random_word function where you just write a list of words, e.g. \n",
    "``` python\n",
    "words = \"dog cat mouse deer snake\".split()\n",
    "```\n",
    "Try writing the generate_random_word function and testing it...\n",
    "Even better is to download a list of English words, read them (as we did for Romeo and Juliet),\n",
    "and then use the random.choice function of the random module to pick a random word from that list."
   ]
  },
  {
   "cell_type": "code",
   "execution_count": 118,
   "metadata": {},
   "outputs": [
    {
     "name": "stdout",
     "output_type": "stream",
     "text": [
      "and\n",
      "3\n"
     ]
    },
    {
     "data": {
      "text/plain": [
       "False"
      ]
     },
     "execution_count": 118,
     "metadata": {},
     "output_type": "execute_result"
    }
   ],
   "source": [
    "import csv\n",
    "import random\n",
    "cool = []\n",
    "f = open('words 3.csv')\n",
    "words = csv.reader(f)\n",
    "for row in words:\n",
    "    cool.append(row)\n",
    "cool.append(words)\n",
    "theword = str(random.choice(cool))\n",
    "guess = theword[2:][:-2]\n",
    "print(guess)\n",
    "print(len(guess))\n",
    "\"i\" in guess\n",
    "\n"
   ]
  },
  {
   "cell_type": "markdown",
   "metadata": {},
   "source": [
    "\"print the word with a dash for each letter not in guessed_letters\"\n",
    "\n",
    "should also be a function, \n",
    "```python\n",
    "print_word(word,guessed_letter)\n",
    "```\n",
    "which prints each letter of the word but prints a dash if the letter has not been guessed.\n",
    "Try writing that function here and testing it."
   ]
  },
  {
   "cell_type": "code",
   "execution_count": 30,
   "metadata": {},
   "outputs": [
    {
     "name": "stdout",
     "output_type": "stream",
     "text": [
      "like\n",
      "4\n"
     ]
    },
    {
     "name": "stdin",
     "output_type": "stream",
     "text": [
      "Please input a letter l\n"
     ]
    },
    {
     "name": "stdout",
     "output_type": "stream",
     "text": [
      "- - - - \n",
      "This letter is in the word!\n",
      "['-', '-', '-', '-', '-', '-']\n"
     ]
    },
    {
     "name": "stdin",
     "output_type": "stream",
     "text": [
      "Type in another letter i\n"
     ]
    },
    {
     "name": "stdout",
     "output_type": "stream",
     "text": [
      "This letter is in the word!\n",
      "['-', '-', '-', '-', '-', '-']\n"
     ]
    },
    {
     "name": "stdin",
     "output_type": "stream",
     "text": [
      "Type in another letter k\n"
     ]
    },
    {
     "name": "stdout",
     "output_type": "stream",
     "text": [
      "This letter is in the word!\n",
      "['-', '-', '-', '-', '-', '-']\n"
     ]
    },
    {
     "name": "stdin",
     "output_type": "stream",
     "text": [
      "Type in another letter e\n"
     ]
    },
    {
     "name": "stdout",
     "output_type": "stream",
     "text": [
      "This letter is in the word!\n",
      "You got the word correct! It was like. You win!\n"
     ]
    },
    {
     "name": "stdin",
     "output_type": "stream",
     "text": [
      "Do your want to play Hangman?\n",
      "Type 'done' to quit: \n",
      " done\n"
     ]
    }
   ],
   "source": [
    "import csv\n",
    "import random\n",
    "cool = []\n",
    "f = open('words 3.csv')\n",
    "words = csv.reader(f)\n",
    "for row in words:\n",
    "    cool.append(row)\n",
    "cool.append(words)\n",
    "theword = str(random.choice(cool))\n",
    "guess = theword[2:][:-2]\n",
    "unique = ''.join(set(guess))\n",
    "check = list(unique)\n",
    "print(guess)\n",
    "print(len(guess))\n",
    "counter=len(unique)\n",
    "def play_hangman():\n",
    "    \n",
    "    want_to_play = True\n",
    "\n",
    "\n",
    "    while (want_to_play):\n",
    "        guessed_lettersright= []\n",
    "        rightcounter=0\n",
    "        guessed_letterswrong= [\"-\",\"-\",\"-\",\"-\",\"-\",\"-\"]\n",
    "        guesses_left = 10\n",
    "        word = guess\n",
    "        letter = input(\"Please input a letter\")\n",
    "        done = False\n",
    "        blanks = \"- \"*len(guess)\n",
    "        print(blanks)\n",
    "        while not done:\n",
    "            if letter in guessed_letterswrong or letter in guessed_lettersright:\n",
    "                guesses_left-=1\n",
    "                print(\"You have already guessed that letter, guess another one!\")\n",
    "              \n",
    "            elif letter not in word:\n",
    "                guessed_letterswrong.remove(\"-\")\n",
    "                guessed_letterswrong.append(letter)\n",
    "                print(\"This letter is not in the word, guess again.\")\n",
    "                guesses_left-=1\n",
    "                #add letter to guessed letters\"\n",
    "                #tell user the letter is not in the word\"\n",
    "                #subtract one from the guesses_left\"\n",
    "            else:\n",
    "                guessed_lettersright.append(letter)\n",
    "                guesses_left-=1\n",
    "                rightcounter+=1\n",
    "                print(\"This letter is in the word!\")\n",
    "                #add letter to guessed letters\"\n",
    "                #tell user the letter is in the word\"\n",
    "    \n",
    "            if guesses_left==0:\n",
    "                print(\"The number of guesses left is zero, You lose!\")\n",
    "                done=True\n",
    "            #set done to be true and tell the user they lost!\"\n",
    "            if counter==rightcounter:\n",
    "                print(\"You got the word correct! It was\",guess+ \". You win!\")\n",
    "                done=True\n",
    "                break\n",
    "            else:\n",
    "                print(guessed_letterswrong)\n",
    "               \n",
    "                #print the word with a dash for each letter not in guessed_letters\"\n",
    "                letter = input(\"Type in another letter\")\n",
    "            def is_letter_in_word(check,guesses):\n",
    "                for letter in check:\n",
    "                    if letter not in check:\n",
    "                        print(\"this letter is in the word\")\n",
    "                        return False\n",
    "                return True\n",
    "            #def is_guess_correct(check, guesses):\n",
    "                #for let\n",
    "            \n",
    "                #all the letters in the word have been guessed\"\n",
    "                #set done to be true and tell the user they won!\"\n",
    "            is_letter_in_word(check, guessed_lettersright)\n",
    "        want_to_play = input(\"Do your want to play Hangman?\\nType 'done' to quit: \\n\")\n",
    "        if want_to_play == \"Done\" or want_to_play == \"done\":\n",
    "            done = True\n",
    "            break\n",
    "            \n",
    "\n",
    "play_hangman()"
   ]
  },
  {
   "cell_type": "markdown",
   "metadata": {},
   "source": [
    "Putting it all together\n",
    "Now try to write the entire play_hangman game with all these pieces.\n"
   ]
  },
  {
   "cell_type": "code",
   "execution_count": 14,
   "metadata": {},
   "outputs": [
    {
     "ename": "TypeError",
     "evalue": "'type' object is not subscriptable",
     "output_type": "error",
     "traceback": [
      "\u001b[0;31m---------------------------------------------------------------------------\u001b[0m",
      "\u001b[0;31mTypeError\u001b[0m                                 Traceback (most recent call last)",
      "\u001b[0;32m<ipython-input-14-7d196c564520>\u001b[0m in \u001b[0;36m<module>\u001b[0;34m\u001b[0m\n\u001b[1;32m      5\u001b[0m     \u001b[0;32mreturn\u001b[0m \u001b[0;32mTrue\u001b[0m\u001b[0;34m\u001b[0m\u001b[0;34m\u001b[0m\u001b[0m\n\u001b[1;32m      6\u001b[0m \u001b[0;34m\u001b[0m\u001b[0m\n\u001b[0;32m----> 7\u001b[0;31m \u001b[0mword\u001b[0m \u001b[0;34m=\u001b[0m \u001b[0mstr\u001b[0m\u001b[0;34m[\u001b[0m\u001b[0;34m'llama'\u001b[0m\u001b[0;34m]\u001b[0m\u001b[0;34m\u001b[0m\u001b[0;34m\u001b[0m\u001b[0m\n\u001b[0m\u001b[1;32m      8\u001b[0m \u001b[0munique\u001b[0m \u001b[0;34m=\u001b[0m \u001b[0;34m''\u001b[0m\u001b[0;34m.\u001b[0m\u001b[0mjoin\u001b[0m\u001b[0;34m(\u001b[0m\u001b[0mset\u001b[0m\u001b[0;34m(\u001b[0m\u001b[0mstr\u001b[0m\u001b[0;34m[\u001b[0m\u001b[0mword\u001b[0m\u001b[0;34m]\u001b[0m\u001b[0;34m)\u001b[0m\u001b[0;34m)\u001b[0m\u001b[0;34m\u001b[0m\u001b[0;34m\u001b[0m\u001b[0m\n\u001b[1;32m      9\u001b[0m \u001b[0mprint\u001b[0m\u001b[0;34m(\u001b[0m\u001b[0munique\u001b[0m\u001b[0;34m)\u001b[0m\u001b[0;34m\u001b[0m\u001b[0;34m\u001b[0m\u001b[0m\n",
      "\u001b[0;31mTypeError\u001b[0m: 'type' object is not subscriptable"
     ]
    }
   ],
   "source": [
    "def is_guess_correct(word, guesses):\n",
    "    for letter in word:\n",
    "        if letter not in guesses:\n",
    "            return False\n",
    "    return True\n",
    "\n",
    "word = ['llama']\n",
    "\n",
    "unique = ''.join(set(str[word]))\n",
    "print(unique)"
   ]
  },
  {
   "cell_type": "code",
   "execution_count": null,
   "metadata": {},
   "outputs": [],
   "source": []
  }
 ],
 "metadata": {
  "kernelspec": {
   "display_name": "Python 3",
   "language": "python",
   "name": "python3"
  },
  "language_info": {
   "codemirror_mode": {
    "name": "ipython",
    "version": 3
   },
   "file_extension": ".py",
   "mimetype": "text/x-python",
   "name": "python",
   "nbconvert_exporter": "python",
   "pygments_lexer": "ipython3",
   "version": "3.7.4"
  }
 },
 "nbformat": 4,
 "nbformat_minor": 4
}
